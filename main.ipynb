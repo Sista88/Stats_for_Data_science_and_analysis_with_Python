{
 "cells": [
  {
   "cell_type": "markdown",
   "id": "dd268f98",
   "metadata": {},
   "source": [
    "# Statistics practical implementation\n",
    "\n",
    "1. Measure of Central Tendency\n",
    "\n",
    "    1. Mean\n",
    "    2. Median\n",
    "    3. Mode"
   ]
  },
  {
   "cell_type": "code",
   "execution_count": 8,
   "id": "597a8609",
   "metadata": {},
   "outputs": [],
   "source": [
    "age = [23, 24, 32, 45, 12, 43, 67, 45, 32, 56, 32, 100]"
   ]
  },
  {
   "cell_type": "code",
   "execution_count": 9,
   "id": "80e79d61",
   "metadata": {},
   "outputs": [
    {
     "name": "stdout",
     "output_type": "stream",
     "text": [
      "42.583333333333336\n",
      "37.5\n"
     ]
    }
   ],
   "source": [
    "import numpy as np\n",
    "print(np.mean(age))\n",
    "print(np.median(age))"
   ]
  },
  {
   "cell_type": "code",
   "execution_count": 10,
   "id": "fb98d58f",
   "metadata": {},
   "outputs": [
    {
     "name": "stdout",
     "output_type": "stream",
     "text": [
      "42.583333333333336\n",
      "37.5\n",
      "32\n"
     ]
    }
   ],
   "source": [
    "import statistics \n",
    "print(statistics.mean(age))\n",
    "print(statistics.median(age))\n",
    "print(statistics.mode(age))"
   ]
  },
  {
   "cell_type": "code",
   "execution_count": 11,
   "id": "ecb93054",
   "metadata": {},
   "outputs": [
    {
     "name": "stderr",
     "output_type": "stream",
     "text": [
      "C:\\Users\\yogi7358\\anaconda3\\lib\\site-packages\\seaborn\\_decorators.py:36: FutureWarning: Pass the following variable as a keyword arg: x. From version 0.12, the only valid positional argument will be `data`, and passing other arguments without an explicit keyword will result in an error or misinterpretation.\n",
      "  warnings.warn(\n"
     ]
    },
    {
     "data": {
      "text/plain": [
       "<AxesSubplot:>"
      ]
     },
     "execution_count": 11,
     "metadata": {},
     "output_type": "execute_result"
    },
    {
     "data": {
      "image/png": "[encoded data removed]",
      "text/plain": [
       "<Figure size 432x288 with 1 Axes>"
      ]
     },
     "metadata": {
      "needs_background": "light"
     },
     "output_type": "display_data"
    }
   ],
   "source": [
    "import seaborn as sns\n",
    "sns.boxplot(age)"
   ]
  },
  {
   "cell_type": "markdown",
   "id": "0995166d",
   "metadata": {},
   "source": [
    "### Five number summary\n",
    "1. minimum value\n",
    "2. 25 percentile\n",
    "3. median (50 percentile)\n",
    "4. 75 percentile\n",
    "5. maximum value"
   ]
  },
  {
   "cell_type": "code",
   "execution_count": 13,
   "id": "db220cd8",
   "metadata": {},
   "outputs": [
    {
     "name": "stdout",
     "output_type": "stream",
     "text": [
      "30.0 47.75\n"
     ]
    }
   ],
   "source": [
    "q1, q3 = np.percentile(age, [25, 75])\n",
    "print(q1, q3)"
   ]
  },
  {
   "cell_type": "code",
   "execution_count": 16,
   "id": "01ea412d",
   "metadata": {},
   "outputs": [
    {
     "name": "stdout",
     "output_type": "stream",
     "text": [
      "IQR is 17.75\n",
      "lower fense 3.375\n",
      "upper fense 74.375\n"
     ]
    }
   ],
   "source": [
    "IQR = q3-q1\n",
    "print(\"IQR is\", IQR)\n",
    "lower_fense = q1 - 1.5*(IQR)\n",
    "upper_fense = q3 + 1.5*(IQR)\n",
    "print(\"lower fense\", lower_fense)\n",
    "print(\"upper fense\", upper_fense)"
   ]
  },
  {
   "cell_type": "markdown",
   "id": "a7fd05fd",
   "metadata": {},
   "source": [
    "2. Measure of dispersion\n",
    "    1. Variance\n",
    "    2. Standard deviation"
   ]
  },
  {
   "cell_type": "code",
   "execution_count": 20,
   "id": "54682509",
   "metadata": {},
   "outputs": [
    {
     "data": {
      "text/plain": [
       "553.1742424242424"
      ]
     },
     "execution_count": 20,
     "metadata": {},
     "output_type": "execute_result"
    }
   ],
   "source": [
    "statistics.variance(age) #Here it automatically take sample variance"
   ]
  },
  {
   "cell_type": "code",
   "execution_count": 21,
   "id": "3b8911f6",
   "metadata": {},
   "outputs": [
    {
     "data": {
      "text/plain": [
       "507.07638888888886"
      ]
     },
     "execution_count": 21,
     "metadata": {},
     "output_type": "execute_result"
    }
   ],
   "source": [
    "np.var(age) # Here it is population variance"
   ]
  },
  {
   "cell_type": "code",
   "execution_count": 22,
   "id": "37020101",
   "metadata": {},
   "outputs": [
    {
     "data": {
      "text/plain": [
       "507.0763888888889"
      ]
     },
     "execution_count": 22,
     "metadata": {},
     "output_type": "execute_result"
    }
   ],
   "source": [
    "statistics.pvariance(age) # statistics lib also directly provides population variance"
   ]
  },
  {
   "cell_type": "code",
   "execution_count": 23,
   "id": "c244edd5",
   "metadata": {},
   "outputs": [
    {
     "name": "stdout",
     "output_type": "stream",
     "text": [
      "22.518356709335805\n"
     ]
    }
   ],
   "source": [
    "import math\n",
    "sd = math.sqrt(statistics.pvariance(age)) # It gives standard deviation\n",
    "print(sd)"
   ]
  },
  {
   "cell_type": "code",
   "execution_count": null,
   "id": "43465406",
   "metadata": {},
   "outputs": [],
   "source": []
  }
 ],
 "metadata": {
  "kernelspec": {
   "display_name": "Python 3 (ipykernel)",
   "language": "python",
   "name": "python3"
  },
  "language_info": {
   "codemirror_mode": {
    "name": "ipython",
    "version": 3
   },
   "file_extension": ".py",
   "mimetype": "text/x-python",
   "name": "python",
   "nbconvert_exporter": "python",
   "pygments_lexer": "ipython3",
   "version": "3.9.7"
  }
 },
 "nbformat": 4,
 "nbformat_minor": 5
}
